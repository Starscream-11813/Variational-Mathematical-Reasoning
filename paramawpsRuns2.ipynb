{
 "cells": [
  {
   "cell_type": "code",
   "execution_count": 1,
   "metadata": {},
   "outputs": [
    {
     "name": "stdout",
     "output_type": "stream",
     "text": [
      "/home/dlpc01/Math Word Problem Solving/MWPToolkit\n"
     ]
    }
   ],
   "source": [
    "%cd MWPToolkit"
   ]
  },
  {
   "cell_type": "code",
   "execution_count": 2,
   "metadata": {},
   "outputs": [
    {
     "name": "stderr",
     "output_type": "stream",
     "text": [
      "[nltk_data] Downloading package punkt to /home/dlpc01/nltk_data...\n",
      "[nltk_data]   Package punkt is already up-to-date!\n"
     ]
    },
    {
     "data": {
      "text/plain": [
       "True"
      ]
     },
     "execution_count": 2,
     "metadata": {},
     "output_type": "execute_result"
    }
   ],
   "source": [
    "import nltk\n",
    "nltk.download('punkt')"
   ]
  },
  {
   "cell_type": "code",
   "execution_count": 3,
   "metadata": {},
   "outputs": [
    {
     "name": "stdout",
     "output_type": "stream",
     "text": [
      "09 Mar 02:14    INFO random_seed=2021\n",
      "use_gpu=True\n",
      "max_output_len=30\n",
      "gpu_id=1\n",
      "test_step=5\n",
      "load_best_config=False\n",
      "supervising_mode=fully_supervised\n",
      "rebuild=False\n",
      "validset_divide=True\n",
      "shuffle=False\n",
      "model_config_file=mwptoolkit/properties/model/TSN.json\n",
      "best_config_file=mwptoolkit/properties/best_config/TSN_paramawps.json\n",
      "dataset_config_file=mwptoolkit/properties/dataset/paramawps.json\n",
      "dataset_dir=dataset/paramawps\n",
      "checkpoint_file=checkpoint/TSN-paramawps.pth\n",
      "trained_model_dir=trained_model/TSN-paramawps\n",
      "log_file=log/TSN-paramawps.log\n",
      "output_dir=result/TSN-paramawps\n",
      "checkpoint_dir=checkpoint/TSN-paramawps\n",
      "min_word_keep=5\n",
      "min_generate_keep=5\n",
      "mask_symbol=NUM\n",
      "single=False\n",
      "linear=True\n",
      "language=en\n",
      "train_batch_size=32\n",
      "test_batch_size=1\n",
      "source_equation_fix=infix\n",
      "embedding_size=128\n",
      "hidden_size=512\n",
      "learning_rate=0.001\n",
      "rnn_cell_type=gru\n",
      "bidirectional=True\n",
      "num_layers=2\n",
      "weight_decay=1e-05\n",
      "epoch_nums=50\n",
      "dropout_ratio=0.5\n",
      "step_size=20\n",
      "beam_size=5\n",
      "share_vocab=False\n",
      "symbol_for_tree=True\n",
      "equation_fix=infix\n",
      "add_sos=True\n",
      "add_eos=True\n",
      "parse_tree_file_name=deprel_tree_info\n",
      "model=TSN\n",
      "dataset=paramawps\n",
      "task_type=single_equation\n",
      "k_fold=5\n",
      "device=cuda\n",
      "map_location=cuda\n",
      "gpu_nums=1\n",
      "\n",
      "\n",
      "word segmentation and number mapping: 100%|█| 13023/13023 [00:01<00:00, 7799.09i\n",
      "word segmentation and number mapping: 0it [00:00, ?it/s]\n",
      "word segmentation and number mapping: 100%|█| 3255/3255 [00:00<00:00, 8710.82it/\n",
      "09 Mar 02:14    INFO start training...\n",
      "09 Mar 02:14    INFO start training teacher net...\n",
      "Traceback (most recent call last):\n",
      "  File \"run_mwptoolkit.py\", line 26, in <module>\n",
      "    run_toolkit(args.model, args.dataset, args.task_type, config_dict)\n",
      "  File \"/home/dlpc01/Math Word Problem Solving/MWPToolkit/mwptoolkit/quick_start.py\", line 213, in run_toolkit\n",
      "    train_with_cross_validation(config)\n",
      "  File \"/home/dlpc01/Math Word Problem Solving/MWPToolkit/mwptoolkit/quick_start.py\", line 162, in train_with_cross_validation\n",
      "    trainer.fit()\n",
      "  File \"/home/dlpc01/Math Word Problem Solving/MWPToolkit/mwptoolkit/trainer/supervised_trainer.py\", line 2579, in fit\n",
      "    loss_total, train_time_cost = self._train_epoch(module_name='teacher_net')\n",
      "  File \"/home/dlpc01/Math Word Problem Solving/MWPToolkit/mwptoolkit/trainer/supervised_trainer.py\", line 2554, in _train_epoch\n",
      "    batch_loss = self._train_teacher_net_batch(batch)\n",
      "  File \"/home/dlpc01/Math Word Problem Solving/MWPToolkit/mwptoolkit/trainer/supervised_trainer.py\", line 2489, in _train_teacher_net_batch\n",
      "    batch_loss = self.model.teacher_calculate_loss(batch)\n",
      "  File \"/home/dlpc01/Math Word Problem Solving/MWPToolkit/mwptoolkit/model/Seq2Tree/tsn.py\", line 233, in teacher_calculate_loss\n",
      "    token_logits, _, t_net_layer_outputs = self.teacher_net_forward(seq, seq_length, nums_stack, num_size, num_pos,\n",
      "  File \"/home/dlpc01/Math Word Problem Solving/MWPToolkit/mwptoolkit/model/Seq2Tree/tsn.py\", line 130, in teacher_net_forward\n",
      "    seq_mask = torch.eq(seq, self.in_pad_token).to(self.device)\n",
      "  File \"/home/dlpc01/anaconda3/envs/SSL_MWPS/lib/python3.8/site-packages/torch/nn/modules/module.py\", line 1269, in __getattr__\n",
      "    raise AttributeError(\"'{}' object has no attribute '{}'\".format(\n",
      "AttributeError: 'TSN' object has no attribute 'in_pad_token'\n",
      "\u001b[0m"
     ]
    }
   ],
   "source": [
    "! python run_mwptoolkit.py --model=TSN --dataset=paramawps --task_type=single_equation --equation_fix=infix --k_fold=5 --test_step=5 --gpu_id=1 --epoch_nums=50 --train_batch_size=32"
   ]
  },
  {
   "cell_type": "code",
   "execution_count": 4,
   "metadata": {},
   "outputs": [
    {
     "name": "stdout",
     "output_type": "stream",
     "text": [
      "09 Mar 02:18    INFO random_seed=2021\n",
      "use_gpu=True\n",
      "max_output_len=30\n",
      "gpu_id=1\n",
      "test_step=5\n",
      "load_best_config=False\n",
      "supervising_mode=fully_supervised\n",
      "rebuild=False\n",
      "validset_divide=True\n",
      "shuffle=False\n",
      "model_config_file=mwptoolkit/properties/model/HMS.json\n",
      "best_config_file=mwptoolkit/properties/best_config/HMS_paramawps.json\n",
      "dataset_config_file=mwptoolkit/properties/dataset/paramawps.json\n",
      "dataset_dir=dataset/paramawps\n",
      "checkpoint_file=checkpoint/HMS-paramawps.pth\n",
      "trained_model_dir=trained_model/HMS-paramawps\n",
      "log_file=log/HMS-paramawps.log\n",
      "output_dir=result/HMS-paramawps\n",
      "checkpoint_dir=checkpoint/HMS-paramawps\n",
      "min_word_keep=5\n",
      "min_generate_keep=5\n",
      "mask_symbol=number\n",
      "single=False\n",
      "linear=True\n",
      "language=en\n",
      "train_batch_size=32\n",
      "test_batch_size=1\n",
      "source_equation_fix=infix\n",
      "hidden_size=512\n",
      "embedding_size=128\n",
      "dropout_ratio=0.5\n",
      "learning_rate=0.001\n",
      "step_size=20\n",
      "scheduler_gamma=0.5\n",
      "weight_decay=1e-05\n",
      "beam_size=1\n",
      "epoch_nums=50\n",
      "share_vocab=False\n",
      "symbol_for_tree=False\n",
      "equation_fix=infix\n",
      "filt_dirty=True\n",
      "add_sos=False\n",
      "add_eos=False\n",
      "parse_tree_file_name=span_level_deprel_tree_info\n",
      "model=HMS\n",
      "dataset=paramawps\n",
      "task_type=single_equation\n",
      "k_fold=5\n",
      "device=cuda\n",
      "map_location=cuda\n",
      "gpu_nums=1\n",
      "\n",
      "\n",
      "word segmentation and number mapping: 100%|█| 13023/13023 [00:01<00:00, 7307.70i\n",
      "word segmentation and number mapping: 0it [00:00, ?it/s]\n",
      "word segmentation and number mapping: 100%|█| 3255/3255 [00:00<00:00, 7093.10it/\n",
      "09 Mar 02:18    INFO build span-level deprel tree infomation to /home/dlpc01/Math Word Problem Solving/MWPToolkit/dataset/paramawps/span_level_deprel_tree_info.json ...\n",
      "09 Mar 02:39    INFO collecting all words and their counts\n",
      "09 Mar 02:39    INFO PROGRESS: at sentence #0, processed 0 words, keeping 0 word types\n",
      "09 Mar 02:39    INFO PROGRESS: at sentence #10000, processed 321702 words, keeping 4195 word types\n",
      "09 Mar 02:39    INFO collected 4197 word types from a corpus of 419015 raw words and 13023 sentences\n",
      "09 Mar 02:39    INFO Creating a fresh vocabulary\n",
      "09 Mar 02:39    INFO Word2Vec lifecycle event {'msg': 'effective_min_count=1 retains 4197 unique words (100.00% of original 4197, drops 0)', 'datetime': '2023-03-09T02:39:26.945565', 'gensim': '4.3.0', 'python': '3.8.10 | packaged by conda-forge | (default, Sep 13 2021, 21:46:58) \\n[GCC 9.4.0]', 'platform': 'Linux-5.15.0-60-generic-x86_64-with-glibc2.10', 'event': 'prepare_vocab'}\n",
      "09 Mar 02:39    INFO Word2Vec lifecycle event {'msg': 'effective_min_count=1 leaves 419015 word corpus (100.00% of original 419015, drops 0)', 'datetime': '2023-03-09T02:39:26.975460', 'gensim': '4.3.0', 'python': '3.8.10 | packaged by conda-forge | (default, Sep 13 2021, 21:46:58) \\n[GCC 9.4.0]', 'platform': 'Linux-5.15.0-60-generic-x86_64-with-glibc2.10', 'event': 'prepare_vocab'}\n",
      "09 Mar 02:39    INFO deleting the raw counts dictionary of 4197 items\n",
      "09 Mar 02:39    INFO sample=0.001 downsamples 54 most-common words\n",
      "09 Mar 02:39    INFO Word2Vec lifecycle event {'msg': 'downsampling leaves estimated 273739.7933205328 word corpus (65.3%% of prior 419015)', 'datetime': '2023-03-09T02:39:27.001080', 'gensim': '4.3.0', 'python': '3.8.10 | packaged by conda-forge | (default, Sep 13 2021, 21:46:58) \\n[GCC 9.4.0]', 'platform': 'Linux-5.15.0-60-generic-x86_64-with-glibc2.10', 'event': 'prepare_vocab'}\n",
      "09 Mar 02:39    INFO estimated required memory for 4197 words and 128 dimensions: 6396228 bytes\n",
      "09 Mar 02:39    INFO resetting layer weights\n",
      "09 Mar 02:39    INFO Word2Vec lifecycle event {'update': False, 'trim_rule': 'None', 'datetime': '2023-03-09T02:39:27.058576', 'gensim': '4.3.0', 'python': '3.8.10 | packaged by conda-forge | (default, Sep 13 2021, 21:46:58) \\n[GCC 9.4.0]', 'platform': 'Linux-5.15.0-60-generic-x86_64-with-glibc2.10', 'event': 'build_vocab'}\n",
      "09 Mar 02:39    INFO Word2Vec lifecycle event {'msg': 'training model with 3 workers on 4197 vocabulary and 128 features, using sg=0 hs=0 sample=0.001 negative=5 window=5 shrink_windows=True', 'datetime': '2023-03-09T02:39:27.058799', 'gensim': '4.3.0', 'python': '3.8.10 | packaged by conda-forge | (default, Sep 13 2021, 21:46:58) \\n[GCC 9.4.0]', 'platform': 'Linux-5.15.0-60-generic-x86_64-with-glibc2.10', 'event': 'train'}\n",
      "09 Mar 02:39    INFO EPOCH 0: training on 419015 raw words (273792 effective words) took 0.2s, 1462532 effective words/s\n",
      "09 Mar 02:39    INFO EPOCH 1: training on 419015 raw words (273510 effective words) took 0.2s, 1675550 effective words/s\n",
      "09 Mar 02:39    INFO EPOCH 2: training on 419015 raw words (273563 effective words) took 0.2s, 1456182 effective words/s\n",
      "09 Mar 02:39    INFO EPOCH 3: training on 419015 raw words (273590 effective words) took 0.2s, 1678828 effective words/s\n",
      "09 Mar 02:39    INFO EPOCH 4: training on 419015 raw words (274031 effective words) took 0.2s, 1638719 effective words/s\n",
      "09 Mar 02:39    INFO Word2Vec lifecycle event {'msg': 'training on 2095075 raw words (1368486 effective words) took 0.9s, 1558919 effective words/s', 'datetime': '2023-03-09T02:39:27.936741', 'gensim': '4.3.0', 'python': '3.8.10 | packaged by conda-forge | (default, Sep 13 2021, 21:46:58) \\n[GCC 9.4.0]', 'platform': 'Linux-5.15.0-60-generic-x86_64-with-glibc2.10', 'event': 'train'}\n",
      "09 Mar 02:39    INFO Word2Vec lifecycle event {'params': 'Word2Vec<vocab=4197, vector_size=128, alpha=0.025>', 'datetime': '2023-03-09T02:39:27.936862', 'gensim': '4.3.0', 'python': '3.8.10 | packaged by conda-forge | (default, Sep 13 2021, 21:46:58) \\n[GCC 9.4.0]', 'platform': 'Linux-5.15.0-60-generic-x86_64-with-glibc2.10', 'event': 'created'}\n",
      "/home/dlpc01/anaconda3/envs/SSL_MWPS/lib/python3.8/site-packages/torch/nn/_reduction.py:42: UserWarning: size_average and reduce args will be deprecated, please use reduction='sum' instead.\n",
      "  warnings.warn(warning.format(ret))\n",
      "09 Mar 02:39    INFO start training...\n",
      "train epoch 1:   0%|                                    | 0/407 [00:00<?, ?it/s]\n",
      "Traceback (most recent call last):\n",
      "  File \"run_mwptoolkit.py\", line 26, in <module>\n",
      "    run_toolkit(args.model, args.dataset, args.task_type, config_dict)\n",
      "  File \"/home/dlpc01/Math Word Problem Solving/MWPToolkit/mwptoolkit/quick_start.py\", line 213, in run_toolkit\n",
      "    train_with_cross_validation(config)\n",
      "  File \"/home/dlpc01/Math Word Problem Solving/MWPToolkit/mwptoolkit/quick_start.py\", line 162, in train_with_cross_validation\n",
      "    trainer.fit()\n",
      "  File \"/home/dlpc01/Math Word Problem Solving/MWPToolkit/mwptoolkit/trainer/supervised_trainer.py\", line 542, in fit\n",
      "    loss_total, train_time_cost = self._train_epoch()\n",
      "  File \"/home/dlpc01/Math Word Problem Solving/MWPToolkit/mwptoolkit/trainer/supervised_trainer.py\", line 523, in _train_epoch\n",
      "    batch = self.dataloader.load_next_batch(DatasetType.Train)\n",
      "  File \"/home/dlpc01/Math Word Problem Solving/MWPToolkit/mwptoolkit/data/dataloader/template_dataloader.py\", line 58, in load_next_batch\n",
      "    self.__trainset_batch_idx=(self.__trainset_batch_idx+1)%self.trainset_batch_nums\n",
      "AttributeError: 'DataLoaderHMS' object has no attribute '_TemplateDataLoader__trainset_batch_idx'\n",
      "\u001b[0m"
     ]
    }
   ],
   "source": [
    "! python run_mwptoolkit.py --model=HMS --dataset=paramawps --task_type=single_equation --equation_fix=infix --k_fold=5 --test_step=5 --gpu_id=1 --epoch_nums=50 --train_batch_size=32"
   ]
  },
  {
   "cell_type": "code",
   "execution_count": null,
   "metadata": {},
   "outputs": [],
   "source": []
  }
 ],
 "metadata": {
  "kernelspec": {
   "display_name": "SSL_MWPS",
   "language": "python",
   "name": "python3"
  },
  "language_info": {
   "codemirror_mode": {
    "name": "ipython",
    "version": 3
   },
   "file_extension": ".py",
   "mimetype": "text/x-python",
   "name": "python",
   "nbconvert_exporter": "python",
   "pygments_lexer": "ipython3",
   "version": "3.8.10 | packaged by conda-forge | (default, Sep 13 2021, 21:46:58) \n[GCC 9.4.0]"
  },
  "orig_nbformat": 4,
  "vscode": {
   "interpreter": {
    "hash": "28325fe9a6053a7f6241bddf8772d540f7732a01d920d1721bd6a8c51e899af5"
   }
  }
 },
 "nbformat": 4,
 "nbformat_minor": 2
}
