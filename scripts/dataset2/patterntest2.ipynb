{
 "cells": [
  {
   "attachments": {},
   "cell_type": "markdown",
   "metadata": {},
   "source": [
    "## Previous knowledge\n",
    "\n",
    "- Numbers can be ints, floats or comma seperated ints\n",
    "- Numbers may start with `$` sign OR end with `%` sign, never both (so far)\n",
    "- Entire quantity may be enclosed by parentheses\n",
    "- Entire quantity may be suffixed by `.`, `,` or `?`\n",
    "\n",
    "## Approach\n",
    "\n",
    "- Turn `$X.Y` into `$[Q]`\n",
    "- Turn `X.Y%` into `[Q]%`\n",
    "- Turn `(X.Y)` into `([Q])`\n",
    "- Turn `($X.Y)` into `($[Q])`\n",
    "- Turn `(X.Y%)` into `(X.Y)%`\n"
   ]
  },
  {
   "cell_type": "code",
   "execution_count": null,
   "metadata": {},
   "outputs": [],
   "source": [
    "# all integers\n",
    "r'\\d+'\n",
    "\n",
    "# all floats\n",
    "r'\\d+.\\d+'\n",
    "\n",
    "# all comma seperated integers\n",
    "r'\\d{1-3}(,\\d{3})*'\n",
    "\n",
    "# all integers AND floats\n",
    "r'\\d+(.\\d+)?'\n",
    "\n",
    "# all comma-seperated integers that are also floats\n",
    "r'\\d{1-3}(,\\d{3})*'\n"
   ]
  }
 ],
 "metadata": {
  "kernelspec": {
   "display_name": "Python 3",
   "language": "python",
   "name": "python3"
  },
  "language_info": {
   "name": "python",
   "version": "3.10.8 (main, Nov  1 2022, 14:18:21) [GCC 12.2.0]"
  },
  "orig_nbformat": 4,
  "vscode": {
   "interpreter": {
    "hash": "e7370f93d1d0cde622a1f8e1c04877d8463912d04d973331ad4851f04de6915a"
   }
  }
 },
 "nbformat": 4,
 "nbformat_minor": 2
}
