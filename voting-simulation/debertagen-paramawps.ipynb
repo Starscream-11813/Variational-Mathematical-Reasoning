{
 "cells": [
  {
   "cell_type": "code",
   "execution_count": 12,
   "metadata": {},
   "outputs": [
    {
     "name": "stdout",
     "output_type": "stream",
     "text": [
      "evaluator.py  __init__.py  __pycache__\n"
     ]
    }
   ],
   "source": [
    "# %cd MWPToolkit\n",
    "\n",
    "!ls mwptoolkit/evaluate"
   ]
  },
  {
   "cell_type": "code",
   "execution_count": 14,
   "metadata": {},
   "outputs": [],
   "source": [
    "from mwptoolkit.evaluate.evaluator import AbstractEvaluator, InfixEvaluator, PostfixEvaluator, PrefixEvaluator, MultiWayTreeEvaluator\n",
    "from mwptoolkit.evaluate.evaluator import MultiEncDecEvaluator,get_evaluator,get_evaluator_module"
   ]
  },
  {
   "cell_type": "code",
   "execution_count": 35,
   "metadata": {},
   "outputs": [
    {
     "data": {
      "text/latex": [
       "$\\displaystyle \\frac{720.0}{x + 10.0} + \\frac{720.0}{x - 30.0}$"
      ],
      "text/plain": [
       "720.0/(x + 10.0) + 720.0/(x - 30.0)"
      ]
     },
     "execution_count": 35,
     "metadata": {},
     "output_type": "execute_result"
    }
   ],
   "source": [
    "from sympy import *\n",
    "\n",
    "e = sympify('( 720.0 / ( x - 30.0 ) ) + ( 720.0 / ( 10.0 + x ) )')\n",
    "# e = sympify('NUM_3')\n",
    "e"
   ]
  },
  {
   "cell_type": "code",
   "execution_count": 56,
   "metadata": {},
   "outputs": [
    {
     "data": {
      "text/plain": [
       "[7.20000000000000]"
      ]
     },
     "execution_count": 56,
     "metadata": {},
     "output_type": "execute_result"
    }
   ],
   "source": [
    "# sympy.Eq(\"x = 84.0 * 8.0 / 12.0\", \"x = 84.0 * 8.0 / 12.0\")\n",
    "x, y, z = symbols('x y z')\n",
    "pred = Eq(sympify('( 1.0 / x ) + ( 1.0 / ( x - 6.0 ) )'), sympify('7.0 * ( 1.0 / x )'))\n",
    "targ = Eq(sympify('( 1.0 / x ) + ( 1.0 / ( x - 6.0 ) )'), sympify('7.0 * ( 1.0 / x )'))\n",
    "# ( 1.0 / x ) + ( 1.0 / ( x - 6.0 ) = 7.0 * ( 1.0 / x )\n",
    "solve(pred, x)\n",
    "# pred"
   ]
  },
  {
   "cell_type": "code",
   "execution_count": 67,
   "metadata": {},
   "outputs": [
    {
     "data": {
      "text/latex": [
       "$\\displaystyle 89.0$"
      ],
      "text/plain": [
       "89.0000000000000"
      ]
     },
     "execution_count": 67,
     "metadata": {},
     "output_type": "execute_result"
    }
   ],
   "source": [
    "member = {}\n",
    "member['prediction'] = 'x = 42.0 + 47.0'\n",
    "member['target'] = 'x = 42.0 + 47.0'\n",
    "\n",
    "pred_s = member['prediction'].split('=')\n",
    "targ_s = member['target'].split('=')\n",
    "pred = Eq(sympify(pred_s[0]), sympify(pred_s[1]))\n",
    "targ = Eq(sympify(targ_s[0]), sympify(targ_s[1]))\n",
    "result = solve(pred, x)[0]\n",
    "\n",
    "result"
   ]
  },
  {
   "cell_type": "code",
   "execution_count": 59,
   "metadata": {},
   "outputs": [
    {
     "data": {
      "text/plain": [
       "1.1102230246251565e-16"
      ]
     },
     "execution_count": 59,
     "metadata": {},
     "output_type": "execute_result"
    }
   ],
   "source": [
    "1/1.2 + 1/7.2 - 7/7.2"
   ]
  }
 ],
 "metadata": {
  "kernelspec": {
   "display_name": "bioinformatics",
   "language": "python",
   "name": "python3"
  },
  "language_info": {
   "codemirror_mode": {
    "name": "ipython",
    "version": 3
   },
   "file_extension": ".py",
   "mimetype": "text/x-python",
   "name": "python",
   "nbconvert_exporter": "python",
   "pygments_lexer": "ipython3",
   "version": "3.8.13"
  },
  "orig_nbformat": 4,
  "vscode": {
   "interpreter": {
    "hash": "111b2030f5592167b4b801e8d94da5ad429e94bf4f461fe536d1f577bac7bdc8"
   }
  }
 },
 "nbformat": 4,
 "nbformat_minor": 2
}
